{
  "nbformat": 4,
  "nbformat_minor": 0,
  "metadata": {
    "colab": {
      "provenance": [],
      "toc_visible": true
    },
    "kernelspec": {
      "name": "python3",
      "display_name": "Python 3"
    },
    "language_info": {
      "name": "python"
    }
  },
  "cells": [
    {
      "cell_type": "code",
      "source": [
        "import pandas as pd\n",
        "import numpy as np"
      ],
      "metadata": {
        "id": "C6apteQkEg9R"
      },
      "execution_count": 1,
      "outputs": []
    },
    {
      "cell_type": "code",
      "source": [
        "customer = pd.read_csv(\"AWCustomers.csv\")\n",
        "sales = pd.read_csv(\"AWSales.csv\")\n",
        "classification_test = pd.read_csv(\"AWTest-Classification.csv\")\n",
        "regression_test = pd.read_csv(\"AWTest-Regression.csv\")"
      ],
      "metadata": {
        "id": "2dSPeGbXwFok"
      },
      "execution_count": 2,
      "outputs": []
    },
    {
      "cell_type": "code",
      "source": [
        "customer.info()\n",
        "sales.info()"
      ],
      "metadata": {
        "colab": {
          "base_uri": "https://localhost:8080/"
        },
        "id": "-zFt2JuvxGsO",
        "outputId": "a9277e04-a867-409f-bdbb-996534b5b313"
      },
      "execution_count": 3,
      "outputs": [
        {
          "output_type": "stream",
          "name": "stdout",
          "text": [
            "<class 'pandas.core.frame.DataFrame'>\n",
            "RangeIndex: 18361 entries, 0 to 18360\n",
            "Data columns (total 24 columns):\n",
            " #   Column                Non-Null Count  Dtype \n",
            "---  ------                --------------  ----- \n",
            " 0   CustomerID            18361 non-null  int64 \n",
            " 1   Title                 101 non-null    object\n",
            " 2   FirstName             18361 non-null  object\n",
            " 3   MiddleName            10572 non-null  object\n",
            " 4   LastName              18361 non-null  object\n",
            " 5   Suffix                3 non-null      object\n",
            " 6   AddressLine1          18361 non-null  object\n",
            " 7   AddressLine2          311 non-null    object\n",
            " 8   City                  18361 non-null  object\n",
            " 9   StateProvinceName     18361 non-null  object\n",
            " 10  CountryRegionName     18361 non-null  object\n",
            " 11  PostalCode            18361 non-null  object\n",
            " 12  PhoneNumber           18361 non-null  object\n",
            " 13  BirthDate             18361 non-null  object\n",
            " 14  Education             18361 non-null  object\n",
            " 15  Occupation            18361 non-null  object\n",
            " 16  Gender                18361 non-null  object\n",
            " 17  MaritalStatus         18361 non-null  object\n",
            " 18  HomeOwnerFlag         18361 non-null  int64 \n",
            " 19  NumberCarsOwned       18361 non-null  int64 \n",
            " 20  NumberChildrenAtHome  18361 non-null  int64 \n",
            " 21  TotalChildren         18361 non-null  int64 \n",
            " 22  YearlyIncome          18361 non-null  int64 \n",
            " 23  LastUpdated           18361 non-null  object\n",
            "dtypes: int64(6), object(18)\n",
            "memory usage: 3.4+ MB\n",
            "<class 'pandas.core.frame.DataFrame'>\n",
            "RangeIndex: 18355 entries, 0 to 18354\n",
            "Data columns (total 3 columns):\n",
            " #   Column         Non-Null Count  Dtype  \n",
            "---  ------         --------------  -----  \n",
            " 0   CustomerID     18355 non-null  int64  \n",
            " 1   BikeBuyer      18355 non-null  int64  \n",
            " 2   AvgMonthSpend  18355 non-null  float64\n",
            "dtypes: float64(1), int64(2)\n",
            "memory usage: 430.3 KB\n"
          ]
        }
      ]
    },
    {
      "cell_type": "code",
      "source": [
        "df = customer.merge(sales,on ='CustomerID',how='left')\n",
        "df.head(10)"
      ],
      "metadata": {
        "colab": {
          "base_uri": "https://localhost:8080/",
          "height": 620
        },
        "id": "JYgKFGQIw9Rs",
        "outputId": "b409ea20-905f-4386-f6ab-0e42c964bfae"
      },
      "execution_count": 4,
      "outputs": [
        {
          "output_type": "execute_result",
          "data": {
            "text/plain": [
              "   CustomerID Title FirstName MiddleName  LastName Suffix  \\\n",
              "0       21173   NaN      Chad          C      Yuan    NaN   \n",
              "1       13249   NaN      Ryan        NaN     Perry    NaN   \n",
              "2       29350   NaN     Julia        NaN  Thompson    NaN   \n",
              "3       13503   NaN  Theodore        NaN     Gomez    NaN   \n",
              "4       22803   NaN  Marshall          J      Shan    NaN   \n",
              "5       22092   NaN    Andrea        NaN     Young    NaN   \n",
              "6       11229   NaN    Adrian          C   Stewart    NaN   \n",
              "7       24179   NaN     Robyn          R    Blanco    NaN   \n",
              "8       12127   NaN     Grace        NaN     Davis    NaN   \n",
              "9       19903   NaN    Marcus          N    Nelson    NaN   \n",
              "\n",
              "             AddressLine1 AddressLine2          City    StateProvinceName  \\\n",
              "0      7090 C. Mount Hood          NaN    Wollongong      New South Wales   \n",
              "1     3651 Willow Lake Rd          NaN       Shawnee     British Columbia   \n",
              "2  1774 Tice Valley Blvd.          NaN   West Covina           California   \n",
              "3         2103 Baldwin Dr          NaN     Liverpool              England   \n",
              "4         Am Gallberg 234          NaN         Werne  Nordrhein-Westfalen   \n",
              "5       9384 Ashmount Way          NaN        Tacoma           Washington   \n",
              "6           6898 Shaw Rd.          NaN  Redwood City           California   \n",
              "7      6270 Pinecreek Way          NaN  Lavender Bay      New South Wales   \n",
              "8       8188, rue Lamarck          NaN     Dunkerque                 Nord   \n",
              "9     5, rue des Bouchers          NaN          Metz              Moselle   \n",
              "\n",
              "   ... Gender MaritalStatus HomeOwnerFlag NumberCarsOwned  \\\n",
              "0  ...      M             M             1               3   \n",
              "1  ...      M             M             1               2   \n",
              "2  ...      F             S             0               3   \n",
              "3  ...      M             M             1               2   \n",
              "4  ...      M             S             1               1   \n",
              "5  ...      F             M             1               2   \n",
              "6  ...      M             S             1               1   \n",
              "7  ...      F             M             0               1   \n",
              "8  ...      F             M             1               0   \n",
              "9  ...      M             S             0               1   \n",
              "\n",
              "  NumberChildrenAtHome TotalChildren YearlyIncome LastUpdated  BikeBuyer  \\\n",
              "0                    0             1        81916  2017-03-06          1   \n",
              "1                    1             2        81076  2017-03-06          1   \n",
              "2                    0             0        86387  2017-03-06          1   \n",
              "3                    1             2        61481  2017-03-06          1   \n",
              "4                    0             0        51804  2017-03-06          1   \n",
              "5                    2             2        61944  2017-03-06          1   \n",
              "6                    0             0        34919  2017-03-06          0   \n",
              "7                    0             0        61832  2017-03-06          1   \n",
              "8                    0             2        83834  2017-03-06          1   \n",
              "9                    0             0        26880  2017-03-06          0   \n",
              "\n",
              "   AvgMonthSpend  \n",
              "0          50.97  \n",
              "1          53.11  \n",
              "2          54.08  \n",
              "3          56.93  \n",
              "4          55.41  \n",
              "5          49.31  \n",
              "6          56.01  \n",
              "7          49.29  \n",
              "8          50.05  \n",
              "9          54.15  \n",
              "\n",
              "[10 rows x 26 columns]"
            ],
            "text/html": [
              "\n",
              "  <div id=\"df-621f1867-7f57-4788-a1b6-4069dfcaa28e\" class=\"colab-df-container\">\n",
              "    <div>\n",
              "<style scoped>\n",
              "    .dataframe tbody tr th:only-of-type {\n",
              "        vertical-align: middle;\n",
              "    }\n",
              "\n",
              "    .dataframe tbody tr th {\n",
              "        vertical-align: top;\n",
              "    }\n",
              "\n",
              "    .dataframe thead th {\n",
              "        text-align: right;\n",
              "    }\n",
              "</style>\n",
              "<table border=\"1\" class=\"dataframe\">\n",
              "  <thead>\n",
              "    <tr style=\"text-align: right;\">\n",
              "      <th></th>\n",
              "      <th>CustomerID</th>\n",
              "      <th>Title</th>\n",
              "      <th>FirstName</th>\n",
              "      <th>MiddleName</th>\n",
              "      <th>LastName</th>\n",
              "      <th>Suffix</th>\n",
              "      <th>AddressLine1</th>\n",
              "      <th>AddressLine2</th>\n",
              "      <th>City</th>\n",
              "      <th>StateProvinceName</th>\n",
              "      <th>...</th>\n",
              "      <th>Gender</th>\n",
              "      <th>MaritalStatus</th>\n",
              "      <th>HomeOwnerFlag</th>\n",
              "      <th>NumberCarsOwned</th>\n",
              "      <th>NumberChildrenAtHome</th>\n",
              "      <th>TotalChildren</th>\n",
              "      <th>YearlyIncome</th>\n",
              "      <th>LastUpdated</th>\n",
              "      <th>BikeBuyer</th>\n",
              "      <th>AvgMonthSpend</th>\n",
              "    </tr>\n",
              "  </thead>\n",
              "  <tbody>\n",
              "    <tr>\n",
              "      <th>0</th>\n",
              "      <td>21173</td>\n",
              "      <td>NaN</td>\n",
              "      <td>Chad</td>\n",
              "      <td>C</td>\n",
              "      <td>Yuan</td>\n",
              "      <td>NaN</td>\n",
              "      <td>7090 C. Mount Hood</td>\n",
              "      <td>NaN</td>\n",
              "      <td>Wollongong</td>\n",
              "      <td>New South Wales</td>\n",
              "      <td>...</td>\n",
              "      <td>M</td>\n",
              "      <td>M</td>\n",
              "      <td>1</td>\n",
              "      <td>3</td>\n",
              "      <td>0</td>\n",
              "      <td>1</td>\n",
              "      <td>81916</td>\n",
              "      <td>2017-03-06</td>\n",
              "      <td>1</td>\n",
              "      <td>50.97</td>\n",
              "    </tr>\n",
              "    <tr>\n",
              "      <th>1</th>\n",
              "      <td>13249</td>\n",
              "      <td>NaN</td>\n",
              "      <td>Ryan</td>\n",
              "      <td>NaN</td>\n",
              "      <td>Perry</td>\n",
              "      <td>NaN</td>\n",
              "      <td>3651 Willow Lake Rd</td>\n",
              "      <td>NaN</td>\n",
              "      <td>Shawnee</td>\n",
              "      <td>British Columbia</td>\n",
              "      <td>...</td>\n",
              "      <td>M</td>\n",
              "      <td>M</td>\n",
              "      <td>1</td>\n",
              "      <td>2</td>\n",
              "      <td>1</td>\n",
              "      <td>2</td>\n",
              "      <td>81076</td>\n",
              "      <td>2017-03-06</td>\n",
              "      <td>1</td>\n",
              "      <td>53.11</td>\n",
              "    </tr>\n",
              "    <tr>\n",
              "      <th>2</th>\n",
              "      <td>29350</td>\n",
              "      <td>NaN</td>\n",
              "      <td>Julia</td>\n",
              "      <td>NaN</td>\n",
              "      <td>Thompson</td>\n",
              "      <td>NaN</td>\n",
              "      <td>1774 Tice Valley Blvd.</td>\n",
              "      <td>NaN</td>\n",
              "      <td>West Covina</td>\n",
              "      <td>California</td>\n",
              "      <td>...</td>\n",
              "      <td>F</td>\n",
              "      <td>S</td>\n",
              "      <td>0</td>\n",
              "      <td>3</td>\n",
              "      <td>0</td>\n",
              "      <td>0</td>\n",
              "      <td>86387</td>\n",
              "      <td>2017-03-06</td>\n",
              "      <td>1</td>\n",
              "      <td>54.08</td>\n",
              "    </tr>\n",
              "    <tr>\n",
              "      <th>3</th>\n",
              "      <td>13503</td>\n",
              "      <td>NaN</td>\n",
              "      <td>Theodore</td>\n",
              "      <td>NaN</td>\n",
              "      <td>Gomez</td>\n",
              "      <td>NaN</td>\n",
              "      <td>2103 Baldwin Dr</td>\n",
              "      <td>NaN</td>\n",
              "      <td>Liverpool</td>\n",
              "      <td>England</td>\n",
              "      <td>...</td>\n",
              "      <td>M</td>\n",
              "      <td>M</td>\n",
              "      <td>1</td>\n",
              "      <td>2</td>\n",
              "      <td>1</td>\n",
              "      <td>2</td>\n",
              "      <td>61481</td>\n",
              "      <td>2017-03-06</td>\n",
              "      <td>1</td>\n",
              "      <td>56.93</td>\n",
              "    </tr>\n",
              "    <tr>\n",
              "      <th>4</th>\n",
              "      <td>22803</td>\n",
              "      <td>NaN</td>\n",
              "      <td>Marshall</td>\n",
              "      <td>J</td>\n",
              "      <td>Shan</td>\n",
              "      <td>NaN</td>\n",
              "      <td>Am Gallberg 234</td>\n",
              "      <td>NaN</td>\n",
              "      <td>Werne</td>\n",
              "      <td>Nordrhein-Westfalen</td>\n",
              "      <td>...</td>\n",
              "      <td>M</td>\n",
              "      <td>S</td>\n",
              "      <td>1</td>\n",
              "      <td>1</td>\n",
              "      <td>0</td>\n",
              "      <td>0</td>\n",
              "      <td>51804</td>\n",
              "      <td>2017-03-06</td>\n",
              "      <td>1</td>\n",
              "      <td>55.41</td>\n",
              "    </tr>\n",
              "    <tr>\n",
              "      <th>5</th>\n",
              "      <td>22092</td>\n",
              "      <td>NaN</td>\n",
              "      <td>Andrea</td>\n",
              "      <td>NaN</td>\n",
              "      <td>Young</td>\n",
              "      <td>NaN</td>\n",
              "      <td>9384 Ashmount Way</td>\n",
              "      <td>NaN</td>\n",
              "      <td>Tacoma</td>\n",
              "      <td>Washington</td>\n",
              "      <td>...</td>\n",
              "      <td>F</td>\n",
              "      <td>M</td>\n",
              "      <td>1</td>\n",
              "      <td>2</td>\n",
              "      <td>2</td>\n",
              "      <td>2</td>\n",
              "      <td>61944</td>\n",
              "      <td>2017-03-06</td>\n",
              "      <td>1</td>\n",
              "      <td>49.31</td>\n",
              "    </tr>\n",
              "    <tr>\n",
              "      <th>6</th>\n",
              "      <td>11229</td>\n",
              "      <td>NaN</td>\n",
              "      <td>Adrian</td>\n",
              "      <td>C</td>\n",
              "      <td>Stewart</td>\n",
              "      <td>NaN</td>\n",
              "      <td>6898 Shaw Rd.</td>\n",
              "      <td>NaN</td>\n",
              "      <td>Redwood City</td>\n",
              "      <td>California</td>\n",
              "      <td>...</td>\n",
              "      <td>M</td>\n",
              "      <td>S</td>\n",
              "      <td>1</td>\n",
              "      <td>1</td>\n",
              "      <td>0</td>\n",
              "      <td>0</td>\n",
              "      <td>34919</td>\n",
              "      <td>2017-03-06</td>\n",
              "      <td>0</td>\n",
              "      <td>56.01</td>\n",
              "    </tr>\n",
              "    <tr>\n",
              "      <th>7</th>\n",
              "      <td>24179</td>\n",
              "      <td>NaN</td>\n",
              "      <td>Robyn</td>\n",
              "      <td>R</td>\n",
              "      <td>Blanco</td>\n",
              "      <td>NaN</td>\n",
              "      <td>6270 Pinecreek Way</td>\n",
              "      <td>NaN</td>\n",
              "      <td>Lavender Bay</td>\n",
              "      <td>New South Wales</td>\n",
              "      <td>...</td>\n",
              "      <td>F</td>\n",
              "      <td>M</td>\n",
              "      <td>0</td>\n",
              "      <td>1</td>\n",
              "      <td>0</td>\n",
              "      <td>0</td>\n",
              "      <td>61832</td>\n",
              "      <td>2017-03-06</td>\n",
              "      <td>1</td>\n",
              "      <td>49.29</td>\n",
              "    </tr>\n",
              "    <tr>\n",
              "      <th>8</th>\n",
              "      <td>12127</td>\n",
              "      <td>NaN</td>\n",
              "      <td>Grace</td>\n",
              "      <td>NaN</td>\n",
              "      <td>Davis</td>\n",
              "      <td>NaN</td>\n",
              "      <td>8188, rue Lamarck</td>\n",
              "      <td>NaN</td>\n",
              "      <td>Dunkerque</td>\n",
              "      <td>Nord</td>\n",
              "      <td>...</td>\n",
              "      <td>F</td>\n",
              "      <td>M</td>\n",
              "      <td>1</td>\n",
              "      <td>0</td>\n",
              "      <td>0</td>\n",
              "      <td>2</td>\n",
              "      <td>83834</td>\n",
              "      <td>2017-03-06</td>\n",
              "      <td>1</td>\n",
              "      <td>50.05</td>\n",
              "    </tr>\n",
              "    <tr>\n",
              "      <th>9</th>\n",
              "      <td>19903</td>\n",
              "      <td>NaN</td>\n",
              "      <td>Marcus</td>\n",
              "      <td>N</td>\n",
              "      <td>Nelson</td>\n",
              "      <td>NaN</td>\n",
              "      <td>5, rue des Bouchers</td>\n",
              "      <td>NaN</td>\n",
              "      <td>Metz</td>\n",
              "      <td>Moselle</td>\n",
              "      <td>...</td>\n",
              "      <td>M</td>\n",
              "      <td>S</td>\n",
              "      <td>0</td>\n",
              "      <td>1</td>\n",
              "      <td>0</td>\n",
              "      <td>0</td>\n",
              "      <td>26880</td>\n",
              "      <td>2017-03-06</td>\n",
              "      <td>0</td>\n",
              "      <td>54.15</td>\n",
              "    </tr>\n",
              "  </tbody>\n",
              "</table>\n",
              "<p>10 rows × 26 columns</p>\n",
              "</div>\n",
              "    <div class=\"colab-df-buttons\">\n",
              "\n",
              "  <div class=\"colab-df-container\">\n",
              "    <button class=\"colab-df-convert\" onclick=\"convertToInteractive('df-621f1867-7f57-4788-a1b6-4069dfcaa28e')\"\n",
              "            title=\"Convert this dataframe to an interactive table.\"\n",
              "            style=\"display:none;\">\n",
              "\n",
              "  <svg xmlns=\"http://www.w3.org/2000/svg\" height=\"24px\" viewBox=\"0 -960 960 960\">\n",
              "    <path d=\"M120-120v-720h720v720H120Zm60-500h600v-160H180v160Zm220 220h160v-160H400v160Zm0 220h160v-160H400v160ZM180-400h160v-160H180v160Zm440 0h160v-160H620v160ZM180-180h160v-160H180v160Zm440 0h160v-160H620v160Z\"/>\n",
              "  </svg>\n",
              "    </button>\n",
              "\n",
              "  <style>\n",
              "    .colab-df-container {\n",
              "      display:flex;\n",
              "      gap: 12px;\n",
              "    }\n",
              "\n",
              "    .colab-df-convert {\n",
              "      background-color: #E8F0FE;\n",
              "      border: none;\n",
              "      border-radius: 50%;\n",
              "      cursor: pointer;\n",
              "      display: none;\n",
              "      fill: #1967D2;\n",
              "      height: 32px;\n",
              "      padding: 0 0 0 0;\n",
              "      width: 32px;\n",
              "    }\n",
              "\n",
              "    .colab-df-convert:hover {\n",
              "      background-color: #E2EBFA;\n",
              "      box-shadow: 0px 1px 2px rgba(60, 64, 67, 0.3), 0px 1px 3px 1px rgba(60, 64, 67, 0.15);\n",
              "      fill: #174EA6;\n",
              "    }\n",
              "\n",
              "    .colab-df-buttons div {\n",
              "      margin-bottom: 4px;\n",
              "    }\n",
              "\n",
              "    [theme=dark] .colab-df-convert {\n",
              "      background-color: #3B4455;\n",
              "      fill: #D2E3FC;\n",
              "    }\n",
              "\n",
              "    [theme=dark] .colab-df-convert:hover {\n",
              "      background-color: #434B5C;\n",
              "      box-shadow: 0px 1px 3px 1px rgba(0, 0, 0, 0.15);\n",
              "      filter: drop-shadow(0px 1px 2px rgba(0, 0, 0, 0.3));\n",
              "      fill: #FFFFFF;\n",
              "    }\n",
              "  </style>\n",
              "\n",
              "    <script>\n",
              "      const buttonEl =\n",
              "        document.querySelector('#df-621f1867-7f57-4788-a1b6-4069dfcaa28e button.colab-df-convert');\n",
              "      buttonEl.style.display =\n",
              "        google.colab.kernel.accessAllowed ? 'block' : 'none';\n",
              "\n",
              "      async function convertToInteractive(key) {\n",
              "        const element = document.querySelector('#df-621f1867-7f57-4788-a1b6-4069dfcaa28e');\n",
              "        const dataTable =\n",
              "          await google.colab.kernel.invokeFunction('convertToInteractive',\n",
              "                                                    [key], {});\n",
              "        if (!dataTable) return;\n",
              "\n",
              "        const docLinkHtml = 'Like what you see? Visit the ' +\n",
              "          '<a target=\"_blank\" href=https://colab.research.google.com/notebooks/data_table.ipynb>data table notebook</a>'\n",
              "          + ' to learn more about interactive tables.';\n",
              "        element.innerHTML = '';\n",
              "        dataTable['output_type'] = 'display_data';\n",
              "        await google.colab.output.renderOutput(dataTable, element);\n",
              "        const docLink = document.createElement('div');\n",
              "        docLink.innerHTML = docLinkHtml;\n",
              "        element.appendChild(docLink);\n",
              "      }\n",
              "    </script>\n",
              "  </div>\n",
              "\n",
              "\n",
              "    <div id=\"df-6f169345-d0ca-4181-ab2a-d3fb6f7a11cf\">\n",
              "      <button class=\"colab-df-quickchart\" onclick=\"quickchart('df-6f169345-d0ca-4181-ab2a-d3fb6f7a11cf')\"\n",
              "                title=\"Suggest charts\"\n",
              "                style=\"display:none;\">\n",
              "\n",
              "<svg xmlns=\"http://www.w3.org/2000/svg\" height=\"24px\"viewBox=\"0 0 24 24\"\n",
              "     width=\"24px\">\n",
              "    <g>\n",
              "        <path d=\"M19 3H5c-1.1 0-2 .9-2 2v14c0 1.1.9 2 2 2h14c1.1 0 2-.9 2-2V5c0-1.1-.9-2-2-2zM9 17H7v-7h2v7zm4 0h-2V7h2v10zm4 0h-2v-4h2v4z\"/>\n",
              "    </g>\n",
              "</svg>\n",
              "      </button>\n",
              "\n",
              "<style>\n",
              "  .colab-df-quickchart {\n",
              "      --bg-color: #E8F0FE;\n",
              "      --fill-color: #1967D2;\n",
              "      --hover-bg-color: #E2EBFA;\n",
              "      --hover-fill-color: #174EA6;\n",
              "      --disabled-fill-color: #AAA;\n",
              "      --disabled-bg-color: #DDD;\n",
              "  }\n",
              "\n",
              "  [theme=dark] .colab-df-quickchart {\n",
              "      --bg-color: #3B4455;\n",
              "      --fill-color: #D2E3FC;\n",
              "      --hover-bg-color: #434B5C;\n",
              "      --hover-fill-color: #FFFFFF;\n",
              "      --disabled-bg-color: #3B4455;\n",
              "      --disabled-fill-color: #666;\n",
              "  }\n",
              "\n",
              "  .colab-df-quickchart {\n",
              "    background-color: var(--bg-color);\n",
              "    border: none;\n",
              "    border-radius: 50%;\n",
              "    cursor: pointer;\n",
              "    display: none;\n",
              "    fill: var(--fill-color);\n",
              "    height: 32px;\n",
              "    padding: 0;\n",
              "    width: 32px;\n",
              "  }\n",
              "\n",
              "  .colab-df-quickchart:hover {\n",
              "    background-color: var(--hover-bg-color);\n",
              "    box-shadow: 0 1px 2px rgba(60, 64, 67, 0.3), 0 1px 3px 1px rgba(60, 64, 67, 0.15);\n",
              "    fill: var(--button-hover-fill-color);\n",
              "  }\n",
              "\n",
              "  .colab-df-quickchart-complete:disabled,\n",
              "  .colab-df-quickchart-complete:disabled:hover {\n",
              "    background-color: var(--disabled-bg-color);\n",
              "    fill: var(--disabled-fill-color);\n",
              "    box-shadow: none;\n",
              "  }\n",
              "\n",
              "  .colab-df-spinner {\n",
              "    border: 2px solid var(--fill-color);\n",
              "    border-color: transparent;\n",
              "    border-bottom-color: var(--fill-color);\n",
              "    animation:\n",
              "      spin 1s steps(1) infinite;\n",
              "  }\n",
              "\n",
              "  @keyframes spin {\n",
              "    0% {\n",
              "      border-color: transparent;\n",
              "      border-bottom-color: var(--fill-color);\n",
              "      border-left-color: var(--fill-color);\n",
              "    }\n",
              "    20% {\n",
              "      border-color: transparent;\n",
              "      border-left-color: var(--fill-color);\n",
              "      border-top-color: var(--fill-color);\n",
              "    }\n",
              "    30% {\n",
              "      border-color: transparent;\n",
              "      border-left-color: var(--fill-color);\n",
              "      border-top-color: var(--fill-color);\n",
              "      border-right-color: var(--fill-color);\n",
              "    }\n",
              "    40% {\n",
              "      border-color: transparent;\n",
              "      border-right-color: var(--fill-color);\n",
              "      border-top-color: var(--fill-color);\n",
              "    }\n",
              "    60% {\n",
              "      border-color: transparent;\n",
              "      border-right-color: var(--fill-color);\n",
              "    }\n",
              "    80% {\n",
              "      border-color: transparent;\n",
              "      border-right-color: var(--fill-color);\n",
              "      border-bottom-color: var(--fill-color);\n",
              "    }\n",
              "    90% {\n",
              "      border-color: transparent;\n",
              "      border-bottom-color: var(--fill-color);\n",
              "    }\n",
              "  }\n",
              "</style>\n",
              "\n",
              "      <script>\n",
              "        async function quickchart(key) {\n",
              "          const quickchartButtonEl =\n",
              "            document.querySelector('#' + key + ' button');\n",
              "          quickchartButtonEl.disabled = true;  // To prevent multiple clicks.\n",
              "          quickchartButtonEl.classList.add('colab-df-spinner');\n",
              "          try {\n",
              "            const charts = await google.colab.kernel.invokeFunction(\n",
              "                'suggestCharts', [key], {});\n",
              "          } catch (error) {\n",
              "            console.error('Error during call to suggestCharts:', error);\n",
              "          }\n",
              "          quickchartButtonEl.classList.remove('colab-df-spinner');\n",
              "          quickchartButtonEl.classList.add('colab-df-quickchart-complete');\n",
              "        }\n",
              "        (() => {\n",
              "          let quickchartButtonEl =\n",
              "            document.querySelector('#df-6f169345-d0ca-4181-ab2a-d3fb6f7a11cf button');\n",
              "          quickchartButtonEl.style.display =\n",
              "            google.colab.kernel.accessAllowed ? 'block' : 'none';\n",
              "        })();\n",
              "      </script>\n",
              "    </div>\n",
              "\n",
              "    </div>\n",
              "  </div>\n"
            ],
            "application/vnd.google.colaboratory.intrinsic+json": {
              "type": "dataframe",
              "variable_name": "df"
            }
          },
          "metadata": {},
          "execution_count": 4
        }
      ]
    },
    {
      "cell_type": "markdown",
      "source": [
        "Part I: Based on Feature Selection, Cleaning, and Preprocessing to Construct an Input from Data\n",
        "Source"
      ],
      "metadata": {
        "id": "JRm24pjpyVTq"
      }
    },
    {
      "cell_type": "markdown",
      "source": [
        "(a) Examine the values of each attribute and Select a set of attributes only that would affect to predict\n",
        "future bike buyers to create your input for data mining algorithms. Remove all the unnecessary\n",
        "attributes. (Select features just by analysis)."
      ],
      "metadata": {
        "id": "Eyaho5pjyaZJ"
      }
    },
    {
      "cell_type": "code",
      "source": [
        "df.info()"
      ],
      "metadata": {
        "colab": {
          "base_uri": "https://localhost:8080/"
        },
        "id": "f4Kq0eDVyepD",
        "outputId": "9ad3fbb4-74f7-4e8b-84b5-d7cf20adcc20"
      },
      "execution_count": 5,
      "outputs": [
        {
          "output_type": "stream",
          "name": "stdout",
          "text": [
            "<class 'pandas.core.frame.DataFrame'>\n",
            "RangeIndex: 18361 entries, 0 to 18360\n",
            "Data columns (total 26 columns):\n",
            " #   Column                Non-Null Count  Dtype  \n",
            "---  ------                --------------  -----  \n",
            " 0   CustomerID            18361 non-null  int64  \n",
            " 1   Title                 101 non-null    object \n",
            " 2   FirstName             18361 non-null  object \n",
            " 3   MiddleName            10572 non-null  object \n",
            " 4   LastName              18361 non-null  object \n",
            " 5   Suffix                3 non-null      object \n",
            " 6   AddressLine1          18361 non-null  object \n",
            " 7   AddressLine2          311 non-null    object \n",
            " 8   City                  18361 non-null  object \n",
            " 9   StateProvinceName     18361 non-null  object \n",
            " 10  CountryRegionName     18361 non-null  object \n",
            " 11  PostalCode            18361 non-null  object \n",
            " 12  PhoneNumber           18361 non-null  object \n",
            " 13  BirthDate             18361 non-null  object \n",
            " 14  Education             18361 non-null  object \n",
            " 15  Occupation            18361 non-null  object \n",
            " 16  Gender                18361 non-null  object \n",
            " 17  MaritalStatus         18361 non-null  object \n",
            " 18  HomeOwnerFlag         18361 non-null  int64  \n",
            " 19  NumberCarsOwned       18361 non-null  int64  \n",
            " 20  NumberChildrenAtHome  18361 non-null  int64  \n",
            " 21  TotalChildren         18361 non-null  int64  \n",
            " 22  YearlyIncome          18361 non-null  int64  \n",
            " 23  LastUpdated           18361 non-null  object \n",
            " 24  BikeBuyer             18361 non-null  int64  \n",
            " 25  AvgMonthSpend         18361 non-null  float64\n",
            "dtypes: float64(1), int64(7), object(18)\n",
            "memory usage: 3.6+ MB\n"
          ]
        }
      ]
    },
    {
      "cell_type": "code",
      "source": [
        "irrelevant_cols = [\n",
        "    \"CustomerID\",\n",
        "    \"Title\",\n",
        "    \"FirstName\",\n",
        "    \"MiddleName\",\n",
        "    \"LastName\",\n",
        "    \"Suffix\",\n",
        "    \"AddressLine1\",\n",
        "    \"AddressLine2\",\n",
        "    \"City\",\n",
        "    \"PostalCode\",\n",
        "    \"PhoneNumber\",\n",
        "    \"EmailAddress\",\n",
        "    \"DateFirstPurchase\"\n",
        "]\n",
        "df = df.drop(columns=[col for col in irrelevant_cols if col in df.columns])\n",
        "df.info()"
      ],
      "metadata": {
        "colab": {
          "base_uri": "https://localhost:8080/"
        },
        "id": "I7xbynWTzId7",
        "outputId": "2679ee41-d540-4f07-f49e-586ca0ab9987"
      },
      "execution_count": 6,
      "outputs": [
        {
          "output_type": "stream",
          "name": "stdout",
          "text": [
            "<class 'pandas.core.frame.DataFrame'>\n",
            "RangeIndex: 18361 entries, 0 to 18360\n",
            "Data columns (total 15 columns):\n",
            " #   Column                Non-Null Count  Dtype  \n",
            "---  ------                --------------  -----  \n",
            " 0   StateProvinceName     18361 non-null  object \n",
            " 1   CountryRegionName     18361 non-null  object \n",
            " 2   BirthDate             18361 non-null  object \n",
            " 3   Education             18361 non-null  object \n",
            " 4   Occupation            18361 non-null  object \n",
            " 5   Gender                18361 non-null  object \n",
            " 6   MaritalStatus         18361 non-null  object \n",
            " 7   HomeOwnerFlag         18361 non-null  int64  \n",
            " 8   NumberCarsOwned       18361 non-null  int64  \n",
            " 9   NumberChildrenAtHome  18361 non-null  int64  \n",
            " 10  TotalChildren         18361 non-null  int64  \n",
            " 11  YearlyIncome          18361 non-null  int64  \n",
            " 12  LastUpdated           18361 non-null  object \n",
            " 13  BikeBuyer             18361 non-null  int64  \n",
            " 14  AvgMonthSpend         18361 non-null  float64\n",
            "dtypes: float64(1), int64(6), object(8)\n",
            "memory usage: 2.1+ MB\n"
          ]
        }
      ]
    },
    {
      "cell_type": "markdown",
      "source": [
        "(b) Create a new Data Frame with the selected attributes only."
      ],
      "metadata": {
        "id": "OJIHk4N22MJ9"
      }
    },
    {
      "cell_type": "code",
      "source": [
        "from datetime import datetime\n",
        "df['BirthDate'] = pd.to_datetime(df['BirthDate'])\n",
        "df['Age'] = datetime.now().year-df['BirthDate'].dt.year\n",
        "subset_df = df[['Age', 'Education', 'Occupation', 'Gender', 'MaritalStatus',\n",
        "                'HomeOwnerFlag', 'NumberCarsOwned', 'NumberChildrenAtHome',\n",
        "                'YearlyIncome', 'AvgMonthSpend', 'BikeBuyer']]\n",
        "print(subset_df.shape)\n",
        "subset_df.info()"
      ],
      "metadata": {
        "colab": {
          "base_uri": "https://localhost:8080/"
        },
        "id": "N7SGR-UO2SXF",
        "outputId": "eac61594-8e43-4444-f02c-62d9e9459a7a"
      },
      "execution_count": 7,
      "outputs": [
        {
          "output_type": "stream",
          "name": "stdout",
          "text": [
            "(18361, 11)\n",
            "<class 'pandas.core.frame.DataFrame'>\n",
            "RangeIndex: 18361 entries, 0 to 18360\n",
            "Data columns (total 11 columns):\n",
            " #   Column                Non-Null Count  Dtype  \n",
            "---  ------                --------------  -----  \n",
            " 0   Age                   18361 non-null  int32  \n",
            " 1   Education             18361 non-null  object \n",
            " 2   Occupation            18361 non-null  object \n",
            " 3   Gender                18361 non-null  object \n",
            " 4   MaritalStatus         18361 non-null  object \n",
            " 5   HomeOwnerFlag         18361 non-null  int64  \n",
            " 6   NumberCarsOwned       18361 non-null  int64  \n",
            " 7   NumberChildrenAtHome  18361 non-null  int64  \n",
            " 8   YearlyIncome          18361 non-null  int64  \n",
            " 9   AvgMonthSpend         18361 non-null  float64\n",
            " 10  BikeBuyer             18361 non-null  int64  \n",
            "dtypes: float64(1), int32(1), int64(5), object(4)\n",
            "memory usage: 1.5+ MB\n"
          ]
        }
      ]
    },
    {
      "cell_type": "markdown",
      "source": [
        "(c) Determine a Data value type (Discrete, or Continuous, then Nominal, Ordinal, Interval, Ratio) of\n",
        "each attribute in your selection to identify preprocessing tasks to create input for your data mining."
      ],
      "metadata": {
        "id": "2aa0omgx3-ae"
      }
    },
    {
      "cell_type": "code",
      "source": [
        "data_types = {\n",
        "    'Age': 'Continuous (Ratio)',\n",
        "    'YearlyIncome': 'Continuous (Ratio)',\n",
        "    'AvgMonthSpend': 'Continuous (Ratio)',\n",
        "    'NumberCarsOwned': 'Continuous (Discrete Count)',\n",
        "    'NumberChildrenAtHome': 'Continuous (Discrete Count)',\n",
        "    'HomeOwnerFlag': 'Binary (Nominal)',\n",
        "\n",
        "    'Gender': 'Nominal (Categorical)',\n",
        "    'MaritalStatus': 'Nominal (Categorical)',\n",
        "    'Occupation': 'Nominal (Categorical)',\n",
        "    'Education': 'Ordinal (Categorical: ordered levels)',\n",
        "\n",
        "    'BikeBuyer': 'Target (Binary: 0/1)'\n",
        "}\n",
        "for col,dtype in data_types.items():\n",
        "  print(f\"{col:20} --> {dtype}\")\n"
      ],
      "metadata": {
        "colab": {
          "base_uri": "https://localhost:8080/"
        },
        "id": "LE2wHnZq3_z4",
        "outputId": "342612fc-c9a4-4fc4-e16f-2c4d133fadfd"
      },
      "execution_count": 8,
      "outputs": [
        {
          "output_type": "stream",
          "name": "stdout",
          "text": [
            "Age                  --> Continuous (Ratio)\n",
            "YearlyIncome         --> Continuous (Ratio)\n",
            "AvgMonthSpend        --> Continuous (Ratio)\n",
            "NumberCarsOwned      --> Continuous (Discrete Count)\n",
            "NumberChildrenAtHome --> Continuous (Discrete Count)\n",
            "HomeOwnerFlag        --> Binary (Nominal)\n",
            "Gender               --> Nominal (Categorical)\n",
            "MaritalStatus        --> Nominal (Categorical)\n",
            "Occupation           --> Nominal (Categorical)\n",
            "Education            --> Ordinal (Categorical: ordered levels)\n",
            "BikeBuyer            --> Target (Binary: 0/1)\n"
          ]
        }
      ]
    },
    {
      "cell_type": "markdown",
      "source": [
        "Part II: Data Preprocessing and Transformation\n",
        "Depending on the data type of each attribute, transform each object from your preprocessed data.  \n",
        "Use all the data rows (~= 18000 rows) with the selected features as input to apply all the tasks below, do\n",
        "not perform each task on the smaller data set that you got from your random sampling result."
      ],
      "metadata": {
        "id": "55TifptcQ5WL"
      }
    },
    {
      "cell_type": "markdown",
      "source": [
        "(a) Handling Null values"
      ],
      "metadata": {
        "id": "V6j5bWZ_Q8Ma"
      }
    },
    {
      "cell_type": "code",
      "source": [
        "missing_values = subset_df.isnull().sum()\n",
        "print(missing_values)"
      ],
      "metadata": {
        "colab": {
          "base_uri": "https://localhost:8080/"
        },
        "id": "YfPDq5hoREM0",
        "outputId": "e49ed005-2ac0-48de-ca57-3fdcd302715c"
      },
      "execution_count": 9,
      "outputs": [
        {
          "output_type": "stream",
          "name": "stdout",
          "text": [
            "Age                     0\n",
            "Education               0\n",
            "Occupation              0\n",
            "Gender                  0\n",
            "MaritalStatus           0\n",
            "HomeOwnerFlag           0\n",
            "NumberCarsOwned         0\n",
            "NumberChildrenAtHome    0\n",
            "YearlyIncome            0\n",
            "AvgMonthSpend           0\n",
            "BikeBuyer               0\n",
            "dtype: int64\n"
          ]
        }
      ]
    },
    {
      "cell_type": "markdown",
      "source": [
        "(b) Normalization"
      ],
      "metadata": {
        "id": "MTz-n1zIS4Sa"
      }
    },
    {
      "cell_type": "code",
      "source": [
        "from sklearn.preprocessing import StandardScaler\n",
        "\n",
        "scaler = StandardScaler()\n",
        "\n",
        "subset_df.loc[:, ['YearlyIncome', 'AvgMonthSpend']] = scaler.fit_transform(\n",
        "    subset_df[['YearlyIncome', 'AvgMonthSpend']]\n",
        ")"
      ],
      "metadata": {
        "colab": {
          "base_uri": "https://localhost:8080/"
        },
        "id": "S5OaDSxCS5hy",
        "outputId": "4defb1e8-831c-40e6-c4f0-08b13d024a21"
      },
      "execution_count": 10,
      "outputs": [
        {
          "output_type": "stream",
          "name": "stderr",
          "text": [
            "/tmp/ipython-input-560412591.py:5: FutureWarning: Setting an item of incompatible dtype is deprecated and will raise in a future error of pandas. Value '[ 0.29855522  0.27118044  0.44426075 ... -0.68097305  0.47000607\n",
            "  2.08899616]' has dtype incompatible with int64, please explicitly cast to a compatible dtype first.\n",
            "  subset_df.loc[:, ['YearlyIncome', 'AvgMonthSpend']] = scaler.fit_transform(\n"
          ]
        }
      ]
    },
    {
      "cell_type": "markdown",
      "source": [
        "(c) Discretization (Binning) on Continuous attributes or Categorical Attributes with too many different\n",
        "values"
      ],
      "metadata": {
        "id": "86_txYDegMDE"
      }
    },
    {
      "cell_type": "code",
      "source": [
        "\n",
        "subset_df.loc[:, 'AgeBin'] = pd.cut(subset_df['Age'], bins=3, labels=['Young', 'Middle', 'Old'])\n",
        "\n",
        "subset_df.loc[:, 'IncomeBin_qcut'] = pd.qcut(subset_df['YearlyIncome'], q=4,\n",
        "                                             labels=['Low', 'Medium', 'High', 'Very High'])\n",
        "bins = [0, 30000, 70000, 200000]\n",
        "labels = ['Low', 'Medium', 'High']\n",
        "subset_df.loc[:, 'IncomeBin_custom'] = pd.cut(subset_df['YearlyIncome'], bins=bins, labels=labels)\n"
      ],
      "metadata": {
        "colab": {
          "base_uri": "https://localhost:8080/"
        },
        "id": "Irp5OL1QgM7R",
        "outputId": "982ccb1b-d94d-4eea-cee2-402c95993027"
      },
      "execution_count": 11,
      "outputs": [
        {
          "output_type": "stream",
          "name": "stderr",
          "text": [
            "/tmp/ipython-input-3572266859.py:1: SettingWithCopyWarning: \n",
            "A value is trying to be set on a copy of a slice from a DataFrame.\n",
            "Try using .loc[row_indexer,col_indexer] = value instead\n",
            "\n",
            "See the caveats in the documentation: https://pandas.pydata.org/pandas-docs/stable/user_guide/indexing.html#returning-a-view-versus-a-copy\n",
            "  subset_df.loc[:, 'AgeBin'] = pd.cut(subset_df['Age'], bins=3, labels=['Young', 'Middle', 'Old'])\n",
            "/tmp/ipython-input-3572266859.py:3: SettingWithCopyWarning: \n",
            "A value is trying to be set on a copy of a slice from a DataFrame.\n",
            "Try using .loc[row_indexer,col_indexer] = value instead\n",
            "\n",
            "See the caveats in the documentation: https://pandas.pydata.org/pandas-docs/stable/user_guide/indexing.html#returning-a-view-versus-a-copy\n",
            "  subset_df.loc[:, 'IncomeBin_qcut'] = pd.qcut(subset_df['YearlyIncome'], q=4,\n",
            "/tmp/ipython-input-3572266859.py:7: SettingWithCopyWarning: \n",
            "A value is trying to be set on a copy of a slice from a DataFrame.\n",
            "Try using .loc[row_indexer,col_indexer] = value instead\n",
            "\n",
            "See the caveats in the documentation: https://pandas.pydata.org/pandas-docs/stable/user_guide/indexing.html#returning-a-view-versus-a-copy\n",
            "  subset_df.loc[:, 'IncomeBin_custom'] = pd.cut(subset_df['YearlyIncome'], bins=bins, labels=labels)\n"
          ]
        }
      ]
    },
    {
      "cell_type": "markdown",
      "source": [
        "(d) Standardization/Normalization"
      ],
      "metadata": {
        "id": "csI77DPKtYLM"
      }
    },
    {
      "cell_type": "code",
      "source": [
        "from sklearn.preprocessing import MinMaxScaler, StandardScaler\n",
        "norm_scaler = MinMaxScaler()\n",
        "subset_df[['YearlyIncome_norm', 'AvgMonthSpend_norm']] = norm_scaler.fit_transform(\n",
        "    subset_df[['YearlyIncome', 'AvgMonthSpend']]\n",
        ")\n",
        "\n",
        "std_scaler = StandardScaler()\n",
        "subset_df[['YearlyIncome_std', 'AvgMonthSpend_std']] = std_scaler.fit_transform(\n",
        "    subset_df[['YearlyIncome', 'AvgMonthSpend']]\n",
        ")\n"
      ],
      "metadata": {
        "id": "gG_I2558tbfL",
        "colab": {
          "base_uri": "https://localhost:8080/"
        },
        "outputId": "c4236a2f-ffe9-4f3b-df7f-55e76d9303e2"
      },
      "execution_count": 12,
      "outputs": [
        {
          "output_type": "stream",
          "name": "stderr",
          "text": [
            "/tmp/ipython-input-3408522149.py:3: SettingWithCopyWarning: \n",
            "A value is trying to be set on a copy of a slice from a DataFrame.\n",
            "Try using .loc[row_indexer,col_indexer] = value instead\n",
            "\n",
            "See the caveats in the documentation: https://pandas.pydata.org/pandas-docs/stable/user_guide/indexing.html#returning-a-view-versus-a-copy\n",
            "  subset_df[['YearlyIncome_norm', 'AvgMonthSpend_norm']] = norm_scaler.fit_transform(\n"
          ]
        }
      ]
    },
    {
      "cell_type": "markdown",
      "source": [
        "(e) Binarization (One Hot Encoding)"
      ],
      "metadata": {
        "id": "3TqUvBGWeqHR"
      }
    },
    {
      "cell_type": "code",
      "source": [
        "subset_encoded = pd.get_dummies(subset_df,\n",
        "                                columns=['Gender', 'MaritalStatus', 'Occupation'],\n",
        "                                drop_first=True)\n",
        "\n",
        "print(subset_encoded.head())\n"
      ],
      "metadata": {
        "colab": {
          "base_uri": "https://localhost:8080/"
        },
        "id": "8-bu1dg9ewAA",
        "outputId": "919f0302-bd29-4a36-a2cf-b52786544b05"
      },
      "execution_count": 13,
      "outputs": [
        {
          "output_type": "stream",
          "name": "stdout",
          "text": [
            "   Age        Education  HomeOwnerFlag  NumberCarsOwned  NumberChildrenAtHome  \\\n",
            "0   38        Bachelors              1                3                     0   \n",
            "1   53  Partial College              1                2                     1   \n",
            "2   40        Bachelors              0                3                     0   \n",
            "3   48  Partial College              1                2                     1   \n",
            "4   50  Partial College              1                1                     0   \n",
            "\n",
            "   YearlyIncome  AvgMonthSpend  BikeBuyer  AgeBin IncomeBin_qcut  ...  \\\n",
            "0      0.298555      -0.231774          1   Young           High  ...   \n",
            "1      0.271180       0.390755          1  Middle           High  ...   \n",
            "2      0.444261       0.672929          1   Young           High  ...   \n",
            "3     -0.367401       1.501999          1   Young         Medium  ...   \n",
            "4     -0.682765       1.059828          1  Middle            Low  ...   \n",
            "\n",
            "  YearlyIncome_norm  AvgMonthSpend_norm  YearlyIncome_std  AvgMonthSpend_std  \\\n",
            "0          0.496842            0.324210          0.298555          -0.231774   \n",
            "1          0.489453            0.425201          0.271180           0.390755   \n",
            "2          0.536172            0.470977          0.444261           0.672929   \n",
            "3          0.317083            0.605474         -0.367401           1.501999   \n",
            "4          0.231958            0.533742         -0.682765           1.059828   \n",
            "\n",
            "   Gender_M  MaritalStatus_S  Occupation_Management  Occupation_Manual  \\\n",
            "0      True            False                  False              False   \n",
            "1      True            False                  False              False   \n",
            "2     False             True                  False              False   \n",
            "3      True            False                  False              False   \n",
            "4      True             True                  False              False   \n",
            "\n",
            "   Occupation_Professional  Occupation_Skilled Manual  \n",
            "0                    False                      False  \n",
            "1                    False                      False  \n",
            "2                    False                      False  \n",
            "3                    False                       True  \n",
            "4                    False                       True  \n",
            "\n",
            "[5 rows x 21 columns]\n"
          ]
        }
      ]
    },
    {
      "cell_type": "markdown",
      "source": [
        "Part III: Calculating Proximity /Correlation Analysis of two features"
      ],
      "metadata": {
        "id": "0ixsRGcjfVNX"
      }
    },
    {
      "cell_type": "markdown",
      "source": [
        "Make sure each attribute is transformed in a same scale for numeric attributes and Binarization for each\n",
        "nominal attribute, and each discretized numeric attribute to standardization. Make sure to apply a correct\n",
        "similarity measure for nominal (one hot encoding)/binary attributes and numeric attributes respectively."
      ],
      "metadata": {
        "id": "cvwwY13rfZmB"
      }
    },
    {
      "cell_type": "code",
      "source": [
        "import numpy as np\n",
        "from sklearn.metrics.pairwise import cosine_similarity\n",
        "\n",
        "# Example: pick first 2 rows after preprocessing\n",
        "obj1 = subset_df.iloc[0].values.reshape(1, -1)\n",
        "obj2 = subset_df.iloc[1].values.reshape(1, -1)\n"
      ],
      "metadata": {
        "id": "Mnh1uGwIfmCe"
      },
      "execution_count": 14,
      "outputs": []
    },
    {
      "cell_type": "code",
      "source": [
        "subset_encoded = subset_encoded.apply(pd.to_numeric, errors='coerce')\n",
        "subset_encoded = subset_encoded.fillna(0)"
      ],
      "metadata": {
        "id": "nsSIdH1tFbqT"
      },
      "execution_count": 20,
      "outputs": []
    },
    {
      "cell_type": "markdown",
      "source": [
        "(a) Calculate Similarity in Simple Matching, Jaccard Similarity, and Cosine Similarity between two\n",
        "following objects of your transformed input data."
      ],
      "metadata": {
        "id": "05B0l9-1fa2C"
      }
    },
    {
      "cell_type": "code",
      "source": [
        "obj1 = subset_encoded.iloc[0].values\n",
        "obj2 = subset_encoded.iloc[1].values\n",
        "matches = (obj1 == obj2).sum()\n",
        "simple_matching = matches / obj1.size\n",
        "print(\"Simple Matching Similarity:\", simple_matching)\n",
        "\n",
        "obj1_bin = (obj1 > 0).astype(int)\n",
        "obj2_bin = (obj2 > 0).astype(int)\n",
        "\n",
        "intersection = (obj1_bin & obj2_bin).sum()\n",
        "union = (obj1_bin | obj2_bin).sum()\n",
        "jaccard = intersection / union if union != 0 else 0\n",
        "print(\"Jaccard Similarity:\", jaccard)\n",
        "from sklearn.metrics.pairwise import cosine_similarity\n",
        "cos_sim = cosine_similarity([obj1], [obj2])[0][0]\n",
        "print(\"Cosine Similarity:\", cos_sim)\n"
      ],
      "metadata": {
        "id": "BLduSdsbfeTJ",
        "colab": {
          "base_uri": "https://localhost:8080/"
        },
        "outputId": "abffd683-7655-4a43-e9d6-69d94acac6b8"
      },
      "execution_count": 22,
      "outputs": [
        {
          "output_type": "stream",
          "name": "stdout",
          "text": [
            "Simple Matching Similarity: 0.5714285714285714\n",
            "Jaccard Similarity: 0.75\n",
            "Cosine Similarity: 0.9987046899804704\n"
          ]
        }
      ]
    },
    {
      "cell_type": "markdown",
      "source": [
        "(b) Calculate Correlation between two features Commute Distance and Yearly Income"
      ],
      "metadata": {
        "id": "iok_uOgcGwa0"
      }
    },
    {
      "cell_type": "code",
      "source": [
        "corr = subset_df['Age'].corr(subset_df['YearlyIncome'])\n",
        "print(\"Correlation (Age vs YearlyIncome):\", corr)\n"
      ],
      "metadata": {
        "colab": {
          "base_uri": "https://localhost:8080/"
        },
        "id": "7O_Avq7qF_tQ",
        "outputId": "974aeb1f-303c-4014-ea7e-1cb5cd343569"
      },
      "execution_count": 25,
      "outputs": [
        {
          "output_type": "stream",
          "name": "stdout",
          "text": [
            "Correlation (Age vs YearlyIncome): 0.02674426213401955\n"
          ]
        }
      ]
    },
    {
      "cell_type": "code",
      "source": [
        "corr = subset_df['AvgMonthSpend'].corr(subset_df['YearlyIncome'])\n",
        "print(\"Correlation (AvgMonthSpend vs YearlyIncome):\", corr)\n"
      ],
      "metadata": {
        "colab": {
          "base_uri": "https://localhost:8080/"
        },
        "id": "zl_55hrGGoZS",
        "outputId": "20172f1e-3b84-4aaf-ca84-6cdd3107b09a"
      },
      "execution_count": 26,
      "outputs": [
        {
          "output_type": "stream",
          "name": "stdout",
          "text": [
            "Correlation (AvgMonthSpend vs YearlyIncome): 0.5301257155563446\n"
          ]
        }
      ]
    }
  ]
}