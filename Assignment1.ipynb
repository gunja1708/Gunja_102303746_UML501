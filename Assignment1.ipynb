{
  "nbformat": 4,
  "nbformat_minor": 0,
  "metadata": {
    "colab": {
      "provenance": []
    },
    "kernelspec": {
      "name": "python3",
      "display_name": "Python 3"
    },
    "language_info": {
      "name": "python"
    }
  },
  "cells": [
    {
      "cell_type": "code",
      "execution_count": 1,
      "metadata": {
        "id": "8vEuz5nvF006"
      },
      "outputs": [],
      "source": [
        "import numpy as np"
      ]
    },
    {
      "cell_type": "markdown",
      "source": [
        "Q1: Questions on Basic NumPy Array"
      ],
      "metadata": {
        "id": "AbHQYac-WIgd"
      }
    },
    {
      "cell_type": "markdown",
      "source": [
        "(a) Reverse the NumPy array: arr = np.array([1, 2, 3, 6, 4, 5])"
      ],
      "metadata": {
        "id": "mx1SfYgWWL1P"
      }
    },
    {
      "cell_type": "code",
      "source": [
        "\n",
        "arr1 = np.array([1,2,3,6,4,5])\n",
        "rev_arr = arr1[::-1]\n",
        "print(rev_arr)\n"
      ],
      "metadata": {
        "colab": {
          "base_uri": "https://localhost:8080/"
        },
        "id": "qDCuiKayGBHs",
        "outputId": "056cda49-d945-4721-f7c5-45fdda476aef"
      },
      "execution_count": 13,
      "outputs": [
        {
          "output_type": "stream",
          "name": "stdout",
          "text": [
            "[5 4 6 3 2 1]\n",
            "[1 2 3 2 4 5 1 2 3]\n",
            "True\n",
            "[0 5 7 8 9]\n",
            "[0 1 2]\n",
            "45\n",
            "[[14]\n",
            " [16]\n",
            " [15]]\n",
            "[[20  9 16]]\n",
            "176 [98.16835147 28.097044   49.73460452] [[ 0.4574917   0.34637121 -0.15017693]\n",
            " [ 0.28447814 -0.72784061 -0.4852124 ]\n",
            " [ 0.84248058  0.59184038  0.8614034 ]] [[ 0.02404141 -0.00911212 -0.00444671]\n",
            " [-0.01667882  0.02966905  0.0024785 ]\n",
            " [ 0.00631287 -0.01603732  0.01217379]] 137180.0000000001\n",
            "[[16 19]\n",
            " [26 31]] [[0.5 0.5 1.  1. ]\n",
            " [0.5 0.5 1.  1. ]\n",
            " [1.  1.  2.  2. ]\n",
            " [1.  1.  2.  2. ]]\n"
          ]
        }
      ]
    },
    {
      "cell_type": "markdown",
      "source": [
        "(b) Flatten the NumPy arr: array1 = np.array([[1, 2, 3], [2, 4, 5], [1, 2, 3]]) using any two\n",
        "NumPy in-built methods"
      ],
      "metadata": {
        "id": "1Hez4YDhWUAM"
      }
    },
    {
      "cell_type": "code",
      "source": [
        "\n",
        "arr2 = np.array([[1,2,3],[2,4,5],[1,2,3]])\n",
        "flat_arr = arr2.flatten()\n",
        "print(flat_arr)"
      ],
      "metadata": {
        "id": "GX-vFICnWW7O"
      },
      "execution_count": null,
      "outputs": []
    },
    {
      "cell_type": "markdown",
      "source": [
        "(c) Compare the following numpy arrays:\n",
        "arr1 = np.array([[1, 2], [3, 4]])\n",
        "arr2 = np.array([[1, 2], [3, 4]])"
      ],
      "metadata": {
        "id": "ArZZ53cVWehq"
      }
    },
    {
      "cell_type": "code",
      "source": [
        "\n",
        "a = np.array([[1,2],[3,4]])\n",
        "b = np.array([[1,2],[3,4]])\n",
        "comp = np.array_equal(a,b)\n",
        "print(comp)"
      ],
      "metadata": {
        "colab": {
          "base_uri": "https://localhost:8080/"
        },
        "id": "fLintCi3WhPo",
        "outputId": "e87ffec6-8589-499b-f661-2dddf9f243b0"
      },
      "execution_count": 34,
      "outputs": [
        {
          "output_type": "stream",
          "name": "stdout",
          "text": [
            "True\n"
          ]
        }
      ]
    },
    {
      "cell_type": "markdown",
      "source": [
        "(d) Find the most frequent value and their indice(s) in the following arrays:\n",
        "i.\n",
        "x = np.array([1,2,3,4,5,1,2,1,1,1])\n",
        "ii.\n",
        "y = np.array([1, 1, 1, 2, 3, 4, 2, 4, 3, 3, ])"
      ],
      "metadata": {
        "id": "tWEP_J2AWtVy"
      }
    },
    {
      "cell_type": "code",
      "source": [
        "\n",
        "x = np.array([1,2,3,4,5,1,2,1,1,1])\n",
        "freq_x = np.bincount(x).argmax()\n",
        "ind_x = np.where(x == freq_x)[0]\n",
        "\n",
        "y = np.array([1,1,1,2,3,4,2,4,3,3])\n",
        "freq_y = np.bincount(x).argmax()\n",
        "ind_y = np.where(y==freq_y)[0]\n",
        "print(ind_x)\n",
        "print(ind_y)"
      ],
      "metadata": {
        "id": "JGSAYX3VWywb"
      },
      "execution_count": null,
      "outputs": []
    },
    {
      "cell_type": "markdown",
      "source": [
        "(e) For the array gfg = np.matrix('[4, 1, 9; 12, 3, 1; 4, 5, 6]'), find\n",
        "i.\n",
        "Sum of all elements\n",
        "ii.\n",
        "iii.\n",
        "Sum of all elements row-wise  \n",
        "Sum of all elements column-wise"
      ],
      "metadata": {
        "id": "soeWhqYwW37Y"
      }
    },
    {
      "cell_type": "code",
      "source": [
        "\n",
        "gfg = np.matrix('[4,1,9; 12,3,1;4,5,6]')\n",
        "tot_sum = gfg.sum()\n",
        "row_sum = gfg.sum(axis=1)\n",
        "col_sum = gfg.sum(axis=0)\n",
        "print(tot_sum)\n",
        "print(row_sum)\n",
        "print(col_sum)"
      ],
      "metadata": {
        "colab": {
          "base_uri": "https://localhost:8080/"
        },
        "id": "hUn7hdcEW-dW",
        "outputId": "982f774c-4ee6-499e-85f7-0639d7951df2"
      },
      "execution_count": 35,
      "outputs": [
        {
          "output_type": "stream",
          "name": "stdout",
          "text": [
            "45\n",
            "[[14]\n",
            " [16]\n",
            " [15]]\n",
            "[[20  9 16]]\n"
          ]
        }
      ]
    },
    {
      "cell_type": "markdown",
      "source": [
        "(f) For the matrix: n_array = np.array([[55, 25, 15],[30, 44, 2],[11, 45, 77]]), find"
      ],
      "metadata": {
        "id": "dlgej1JkXKfM"
      }
    },
    {
      "cell_type": "code",
      "source": [
        "n_array = np.array([[55,25,15],[30,44,2],[11,45,77]])"
      ],
      "metadata": {
        "id": "21U0FE_gXLbD"
      },
      "execution_count": 36,
      "outputs": []
    },
    {
      "cell_type": "markdown",
      "source": [
        "i.\n",
        "Sum of diagonal elements"
      ],
      "metadata": {
        "id": "CK0xn4sMXUOq"
      }
    },
    {
      "cell_type": "code",
      "source": [
        "diag_sum = np.trace(n_array)\n",
        "print(diag_sum)"
      ],
      "metadata": {
        "colab": {
          "base_uri": "https://localhost:8080/"
        },
        "id": "Pu7klH5xXVvP",
        "outputId": "f30409d6-f4a2-4da6-eea0-dc55c39787e6"
      },
      "execution_count": 37,
      "outputs": [
        {
          "output_type": "stream",
          "name": "stdout",
          "text": [
            "176\n"
          ]
        }
      ]
    },
    {
      "cell_type": "markdown",
      "source": [
        "ii. Eigen values of matrix"
      ],
      "metadata": {
        "id": "BKNqKCsQXd6Y"
      }
    },
    {
      "cell_type": "code",
      "source": [
        "e_val, e_vec = np.linalg.eig(n_array)\n",
        "print(e_val,e_vec)"
      ],
      "metadata": {
        "colab": {
          "base_uri": "https://localhost:8080/"
        },
        "id": "21yeabG0XkwT",
        "outputId": "ed3a6e62-46da-4858-af9d-34c7a22ed6b8"
      },
      "execution_count": 38,
      "outputs": [
        {
          "output_type": "stream",
          "name": "stdout",
          "text": [
            "[98.16835147 28.097044   49.73460452] [[ 0.4574917   0.34637121 -0.15017693]\n",
            " [ 0.28447814 -0.72784061 -0.4852124 ]\n",
            " [ 0.84248058  0.59184038  0.8614034 ]]\n"
          ]
        }
      ]
    },
    {
      "cell_type": "markdown",
      "source": [
        "iv. Inverse of matrix"
      ],
      "metadata": {
        "id": "0Q45jGZHX6Kv"
      }
    },
    {
      "cell_type": "code",
      "source": [
        "inverse = np.linalg.inv(n_array)\n",
        "print(inverse)"
      ],
      "metadata": {
        "colab": {
          "base_uri": "https://localhost:8080/"
        },
        "id": "AUfgnz3LX_te",
        "outputId": "6e324c00-3670-4189-d95b-f50a6e90b9e3"
      },
      "execution_count": 40,
      "outputs": [
        {
          "output_type": "stream",
          "name": "stdout",
          "text": [
            "[[ 0.02404141 -0.00911212 -0.00444671]\n",
            " [-0.01667882  0.02966905  0.0024785 ]\n",
            " [ 0.00631287 -0.01603732  0.01217379]]\n"
          ]
        }
      ]
    },
    {
      "cell_type": "markdown",
      "source": [
        "v. Determinant of matrix"
      ],
      "metadata": {
        "id": "cq9QNoBuYLw4"
      }
    },
    {
      "cell_type": "code",
      "source": [
        "determinant = np.linalg.det(n_array)\n",
        "print(determinant)"
      ],
      "metadata": {
        "colab": {
          "base_uri": "https://localhost:8080/"
        },
        "id": "3dJdooUeYRtQ",
        "outputId": "17540201-1b60-4071-9678-75783821b54b"
      },
      "execution_count": 41,
      "outputs": [
        {
          "output_type": "stream",
          "name": "stdout",
          "text": [
            "137180.0000000001\n"
          ]
        }
      ]
    },
    {
      "cell_type": "markdown",
      "source": [
        "(g) Multiply the following matrices and also find covariance between matrices using NumPy:\n",
        "i.\n",
        "p = [[1, 2], [2, 3]]"
      ],
      "metadata": {
        "id": "OdioKEQNYj9B"
      }
    },
    {
      "cell_type": "code",
      "source": [
        "p = np.array([[1,2],[2,3]])\n",
        "q = np.array([[4,5],[6,7]])\n",
        "product = np.dot(p,q)\n",
        "cov = np.cov(p.T,q.T)\n",
        "print(product,cov)\n"
      ],
      "metadata": {
        "colab": {
          "base_uri": "https://localhost:8080/"
        },
        "id": "7RF3MtSxYk4k",
        "outputId": "11deff3a-4305-4957-f5ec-7f8dec35fc05"
      },
      "execution_count": 42,
      "outputs": [
        {
          "output_type": "stream",
          "name": "stdout",
          "text": [
            "[[16 19]\n",
            " [26 31]] [[0.5 0.5 1.  1. ]\n",
            " [0.5 0.5 1.  1. ]\n",
            " [1.  1.  2.  2. ]\n",
            " [1.  1.  2.  2. ]]\n"
          ]
        }
      ]
    },
    {
      "cell_type": "markdown",
      "source": [
        "\n",
        "ii.\n",
        "p = [[1, 2], [2, 3], [4, 5]]\n",
        "q = [[4, 5, 1], [6, 7, 2]]"
      ],
      "metadata": {
        "id": "FdCv_Dh9Yqfc"
      }
    },
    {
      "cell_type": "code",
      "source": [
        "\n",
        "p = np.array([[1,2],[2,3],[4,5]])\n",
        "q = np.array([[4,5,1],[6,7,2]])\n",
        "product2 = np.dot(p,q)\n",
        "cov2 = np.cov(p.flatten(), q.flatten())\n",
        "print(product2,cov2)"
      ],
      "metadata": {
        "colab": {
          "base_uri": "https://localhost:8080/"
        },
        "id": "5JxeigYkOG8-",
        "outputId": "69dcaa4f-7b79-4668-e7b5-06af56071fab"
      },
      "execution_count": 15,
      "outputs": [
        {
          "output_type": "stream",
          "name": "stdout",
          "text": [
            "[[16 19  5]\n",
            " [26 31  8]\n",
            " [46 55 14]] [[2.16666667 0.23333333]\n",
            " [0.23333333 5.36666667]]\n"
          ]
        }
      ]
    },
    {
      "cell_type": "markdown",
      "source": [
        "(h) For the matrices: x = np.array([[2, 3, 4], [3, 2, 9]]); y = np.array([[1, 5, 0], [5, 10, 3]]),\n",
        "find inner, outer and cartesian product?"
      ],
      "metadata": {
        "id": "iSfrNnCRY0-5"
      }
    },
    {
      "cell_type": "code",
      "source": [
        "\n",
        "x = np.array([[2, 3, 4], [3, 2, 9]])\n",
        "y = np.array([[1, 5, 0], [5, 10, 3]])\n",
        "\n",
        "inner = np.inner(x, y)\n",
        "\n",
        "outer = np.outer(x.flatten(), y.flatten())\n",
        "\n",
        "cartesian = np.array(np.meshgrid(x.flatten(), y.flatten())).T.reshape(-1, 2)\n",
        "\n",
        "print(inner, outer, cartesian)\n"
      ],
      "metadata": {
        "colab": {
          "base_uri": "https://localhost:8080/"
        },
        "id": "xh50vMZRO5m7",
        "outputId": "b81b77ff-88ba-447c-c9de-1a30925647eb"
      },
      "execution_count": 16,
      "outputs": [
        {
          "output_type": "stream",
          "name": "stdout",
          "text": [
            "[[17 52]\n",
            " [13 62]] [[ 2 10  0 10 20  6]\n",
            " [ 3 15  0 15 30  9]\n",
            " [ 4 20  0 20 40 12]\n",
            " [ 3 15  0 15 30  9]\n",
            " [ 2 10  0 10 20  6]\n",
            " [ 9 45  0 45 90 27]] [[ 2  1]\n",
            " [ 2  5]\n",
            " [ 2  0]\n",
            " [ 2  5]\n",
            " [ 2 10]\n",
            " [ 2  3]\n",
            " [ 3  1]\n",
            " [ 3  5]\n",
            " [ 3  0]\n",
            " [ 3  5]\n",
            " [ 3 10]\n",
            " [ 3  3]\n",
            " [ 4  1]\n",
            " [ 4  5]\n",
            " [ 4  0]\n",
            " [ 4  5]\n",
            " [ 4 10]\n",
            " [ 4  3]\n",
            " [ 3  1]\n",
            " [ 3  5]\n",
            " [ 3  0]\n",
            " [ 3  5]\n",
            " [ 3 10]\n",
            " [ 3  3]\n",
            " [ 2  1]\n",
            " [ 2  5]\n",
            " [ 2  0]\n",
            " [ 2  5]\n",
            " [ 2 10]\n",
            " [ 2  3]\n",
            " [ 9  1]\n",
            " [ 9  5]\n",
            " [ 9  0]\n",
            " [ 9  5]\n",
            " [ 9 10]\n",
            " [ 9  3]]\n"
          ]
        }
      ]
    },
    {
      "cell_type": "markdown",
      "source": [
        "Q2: Based on NumPy Mathematics and Statistics"
      ],
      "metadata": {
        "id": "D1Ko-T_jP4r5"
      }
    },
    {
      "cell_type": "markdown",
      "source": [
        "(a)  \n",
        "For the array: array = np.array([[1, -2, 3],[-4, 5, -6]])"
      ],
      "metadata": {
        "id": "98KFBS_lQIts"
      }
    },
    {
      "cell_type": "code",
      "source": [
        "import numpy as np\n",
        "\n",
        "array = np.array([[1, -2, 3], [-4, 5, -6]])"
      ],
      "metadata": {
        "id": "KWaU_3PYQqpN"
      },
      "execution_count": 17,
      "outputs": []
    },
    {
      "cell_type": "markdown",
      "source": [
        "i.\n",
        "Find element-wise absolute value"
      ],
      "metadata": {
        "id": "WlejYxJMQfuS"
      }
    },
    {
      "cell_type": "code",
      "source": [
        "a_arr = np.abs(array)\n",
        "print(\"absolute values : \",a_arr)"
      ],
      "metadata": {
        "colab": {
          "base_uri": "https://localhost:8080/"
        },
        "id": "WFWSRRTDQksw",
        "outputId": "5ada24eb-cb3c-49d3-99a1-ec84237ede2f"
      },
      "execution_count": 18,
      "outputs": [
        {
          "output_type": "stream",
          "name": "stdout",
          "text": [
            "absolute values :  [[1 2 3]\n",
            " [4 5 6]]\n"
          ]
        }
      ]
    },
    {
      "cell_type": "markdown",
      "source": [
        "ii.\n",
        "Find the 25th, 50th, and 75th percentile of flattened array, for each column, for each\n",
        "row."
      ],
      "metadata": {
        "id": "M8KmJRytQ7eY"
      }
    },
    {
      "cell_type": "code",
      "source": [
        "flat = array.flatten()\n",
        "p_flat = np.percentile(flat,[25,50,75])\n",
        "p_col = np.percentile(array,[25,50,75],axis=0)\n",
        "p_row = np.percentile(array,[25,50,75],axis=1)\n",
        "print(\"Percentiles Flattened:\", p_flat)\n",
        "print(\"Percentiles Col-wise: \", p_col)\n",
        "print(\"Percentiles Row-wise : \", p_row)"
      ],
      "metadata": {
        "colab": {
          "base_uri": "https://localhost:8080/"
        },
        "id": "UMe_P9izRD6j",
        "outputId": "b73805f3-2be7-402c-927e-378c1fe428bf"
      },
      "execution_count": 20,
      "outputs": [
        {
          "output_type": "stream",
          "name": "stdout",
          "text": [
            "Percentiles Flattened: [-3.5 -0.5  2.5]\n",
            "Percentiles Col-wise:  [[-2.75 -0.25 -3.75]\n",
            " [-1.5   1.5  -1.5 ]\n",
            " [-0.25  3.25  0.75]]\n",
            "Percentiles Row-wise :  [[-0.5 -5. ]\n",
            " [ 1.  -4. ]\n",
            " [ 2.   0.5]]\n"
          ]
        }
      ]
    },
    {
      "cell_type": "markdown",
      "source": [
        "iii. Mean, Median and Standard Deviation of flattened array, of each column, and\n",
        "each row"
      ],
      "metadata": {
        "id": "-oSiJSK5RxNH"
      }
    },
    {
      "cell_type": "code",
      "source": [
        "\n",
        "mean_flat = np.mean(flat)\n",
        "median_flat = np.median(flat)\n",
        "std_flat = np.std(flat)\n",
        "\n",
        "mean_col = np.mean(array, axis=0)\n",
        "median_col = np.median(array, axis=0)\n",
        "std_col = np.std(array, axis=0)\n",
        "\n",
        "mean_row = np.mean(array, axis=1)\n",
        "median_row = np.median(array, axis=1)\n",
        "std_row = np.std(array, axis=1)\n",
        "\n",
        "print(\"Flattened Mean:\", mean_flat, \"Median:\", median_flat, \"Std:\", std_flat)\n",
        "print(\"Col wise  Mean:\", mean_col, \"\\nMedian:\", median_col, \"\\nStd:\", std_col)\n",
        "print(\"Row wise  Mean:\", mean_row, \"\\nMedian:\", median_row, \"\\nStd:\", std_row)\n"
      ],
      "metadata": {
        "colab": {
          "base_uri": "https://localhost:8080/"
        },
        "id": "hDOTRiR7R10d",
        "outputId": "0276b0ce-72dd-4e9c-936a-c89f0717a7eb"
      },
      "execution_count": 22,
      "outputs": [
        {
          "output_type": "stream",
          "name": "stdout",
          "text": [
            "Flattened Mean: -0.5 Median: -0.5 Std: 3.8622100754188224\n",
            "Col wise  Mean: [-1.5  1.5 -1.5] \n",
            "Median: [-1.5  1.5 -1.5] \n",
            "Std: [2.5 3.5 4.5]\n",
            "Row wise  Mean: [ 0.66666667 -1.66666667] \n",
            "Median: [ 1. -4.] \n",
            "Std: [2.05480467 4.78423336]\n"
          ]
        }
      ]
    },
    {
      "cell_type": "markdown",
      "source": [
        "(b) For the array: a = np.array([-1.8, -1.6, -0.5, 0.5,1.6, 1.8, 3.0]). Find floor, ceiling\n",
        "and truncated value, rounded values"
      ],
      "metadata": {
        "id": "fufbXLO7SLwH"
      }
    },
    {
      "cell_type": "code",
      "source": [
        "a = np.array([-1.8, -1.6, -0.5, 0.5, 1.6, 1.8, 3.0])\n",
        "\n",
        "f = np.floor(a)\n",
        "c = np.ceil(a)\n",
        "t = np.trunc(a)\n",
        "r = np.round(a)\n",
        "print(\"Floor:\", f)\n",
        "print(\"Ceiling:\", c)\n",
        "print(\"Truncated:\", t)\n",
        "print(\"Rounded:\", r)\n"
      ],
      "metadata": {
        "colab": {
          "base_uri": "https://localhost:8080/"
        },
        "id": "zRzyPrXSSYYf",
        "outputId": "0c2e55db-a90c-4928-c09b-c76249954a35"
      },
      "execution_count": 23,
      "outputs": [
        {
          "output_type": "stream",
          "name": "stdout",
          "text": [
            "Floor: [-2. -2. -1.  0.  1.  1.  3.]\n",
            "Ceiling: [-1. -1. -0.  1.  2.  2.  3.]\n",
            "Truncated: [-1. -1. -0.  0.  1.  1.  3.]\n",
            "Rounded: [-2. -2. -0.  0.  2.  2.  3.]\n"
          ]
        }
      ]
    },
    {
      "cell_type": "markdown",
      "source": [
        "Q3: Based on Searching and Sorting"
      ],
      "metadata": {
        "id": "t02wcfqzSos7"
      }
    },
    {
      "cell_type": "markdown",
      "source": [
        "(a) For the array: array = np.array([10, 52, 62, 16, 16, 54, 453]), find"
      ],
      "metadata": {
        "id": "d81GsxSkSr7v"
      }
    },
    {
      "cell_type": "code",
      "source": [
        "array = np.array([10,52,62,16,16,54,453])"
      ],
      "metadata": {
        "id": "jozcIICxSwUo"
      },
      "execution_count": 24,
      "outputs": []
    },
    {
      "cell_type": "markdown",
      "source": [
        "i.\n",
        "Sorted array"
      ],
      "metadata": {
        "id": "MFMuUN6yS90D"
      }
    },
    {
      "cell_type": "code",
      "source": [
        "s_array = np.sort(array)\n",
        "print(\"Sorted array:\", s_array)\n"
      ],
      "metadata": {
        "colab": {
          "base_uri": "https://localhost:8080/"
        },
        "id": "kJVEXqFKS034",
        "outputId": "ee879471-8a7b-479c-c171-2d11d5d8df84"
      },
      "execution_count": 25,
      "outputs": [
        {
          "output_type": "stream",
          "name": "stdout",
          "text": [
            "Sorted array: [ 10  16  16  52  54  62 453]\n"
          ]
        }
      ]
    },
    {
      "cell_type": "markdown",
      "source": [
        "ii. Indices of sorted array"
      ],
      "metadata": {
        "id": "b9FXVq34TLVG"
      }
    },
    {
      "cell_type": "code",
      "source": [
        "s_indices = np.argsort(array)\n",
        "print(\"Indices of sorted array:\", s_indices)"
      ],
      "metadata": {
        "colab": {
          "base_uri": "https://localhost:8080/"
        },
        "id": "jgj_T93ITOHg",
        "outputId": "dcd3e277-be5c-427a-e877-9a4aa20d4853"
      },
      "execution_count": 26,
      "outputs": [
        {
          "output_type": "stream",
          "name": "stdout",
          "text": [
            "Indices of sorted array: [0 3 4 1 5 2 6]\n"
          ]
        }
      ]
    },
    {
      "cell_type": "markdown",
      "source": [
        "iii. 4 smallest elements"
      ],
      "metadata": {
        "id": "9kWSuw0PTh3g"
      }
    },
    {
      "cell_type": "code",
      "source": [
        "s_4 = np.sort(array)[:4]\n",
        "print(\"4 smallest elements:\", s_4)\n"
      ],
      "metadata": {
        "colab": {
          "base_uri": "https://localhost:8080/"
        },
        "id": "TfY4ipJfTpF8",
        "outputId": "72974424-e011-4403-9e57-fe8818fd14d2"
      },
      "execution_count": 27,
      "outputs": [
        {
          "output_type": "stream",
          "name": "stdout",
          "text": [
            "4 smallest elements: [10 16 16 52]\n"
          ]
        }
      ]
    },
    {
      "cell_type": "markdown",
      "source": [
        "iv. 5 largest elements"
      ],
      "metadata": {
        "id": "PdJeuE2HTzB3"
      }
    },
    {
      "cell_type": "code",
      "source": [
        "l_5 = np.sort(array)[-5:][::-1]\n",
        "print(\"5 largest elements:\", l_5)\n"
      ],
      "metadata": {
        "colab": {
          "base_uri": "https://localhost:8080/"
        },
        "id": "9gN8NEhiT0ko",
        "outputId": "1385c048-cb98-48fa-c1de-0237cb903fc8"
      },
      "execution_count": 28,
      "outputs": [
        {
          "output_type": "stream",
          "name": "stdout",
          "text": [
            "5 largest elements: [453  62  54  52  16]\n"
          ]
        }
      ]
    },
    {
      "cell_type": "markdown",
      "source": [
        "(b) For the array: array = np.array([1.0, 1.2, 2.2, 2.0, 3.0, 2.0]), **find**"
      ],
      "metadata": {
        "id": "23ypjdq3UCuG"
      }
    },
    {
      "cell_type": "code",
      "source": [
        "array = np.array([1.0,1.2,2.2,2.0,3.0,2.0])"
      ],
      "metadata": {
        "id": "8z-4NexAUK_J"
      },
      "execution_count": 29,
      "outputs": []
    },
    {
      "cell_type": "markdown",
      "source": [
        "i.\n",
        "Integer elements only"
      ],
      "metadata": {
        "id": "I6OaXen8UFxM"
      }
    },
    {
      "cell_type": "code",
      "source": [
        "int_el = array[array == array.astype(int)]\n",
        "print(\"Integer elements only:\", int_el)"
      ],
      "metadata": {
        "colab": {
          "base_uri": "https://localhost:8080/"
        },
        "id": "pMzH_mC-UIxX",
        "outputId": "5add8e40-948e-4da6-f8e3-eaf226781e24"
      },
      "execution_count": 30,
      "outputs": [
        {
          "output_type": "stream",
          "name": "stdout",
          "text": [
            "Integer elements only: [1. 2. 3. 2.]\n"
          ]
        }
      ]
    },
    {
      "cell_type": "markdown",
      "source": [
        "ii. Float elements only"
      ],
      "metadata": {
        "id": "kqR-pvWTUjt_"
      }
    },
    {
      "cell_type": "code",
      "source": [
        "f_el = array[array != array.astype(int)]\n",
        "print(\"Float elements only:\", f_el)"
      ],
      "metadata": {
        "colab": {
          "base_uri": "https://localhost:8080/"
        },
        "id": "FQjkgYL6Unp0",
        "outputId": "18d0f5bd-1638-43ae-fed3-ff234905f912"
      },
      "execution_count": 31,
      "outputs": [
        {
          "output_type": "stream",
          "name": "stdout",
          "text": [
            "Float elements only: [1.2 2.2]\n"
          ]
        }
      ]
    },
    {
      "cell_type": "markdown",
      "source": [
        "Q4.\n",
        "(a) Write a function named img_to_array(path) that reads an image from a specified path and\n",
        "save it as text file on local machine? (Note: use separate cases for RGB and Grey Scale\n",
        "images)"
      ],
      "metadata": {
        "id": "tDOAeVbsUxA-"
      }
    },
    {
      "cell_type": "code",
      "source": [
        "import cv2\n",
        "import numpy as np\n",
        "\n",
        "def img_to_array(path, output='image_arr.txt'):\n",
        "    img = cv2.imread(path)\n",
        "\n",
        "    if img is None:\n",
        "        raise ValueError(\"Image not found or path is incorrect.\")\n",
        "\n",
        "    if len(img.shape) == 2 or img.shape[2] == 1:\n",
        "        print(\"Grayscale image detected.\")\n",
        "        gray_img = img if len(img.shape) == 2 else cv2.cvtColor(img, cv2.COLOR_BGR2GRAY)\n",
        "        np.savetxt(output, gray_img, fmt='%d')\n",
        "    else:\n",
        "        print(\"RGB image detected.\")\n",
        "        # Save each channel separately\n",
        "        for i, color in enumerate(['B', 'G', 'R']):\n",
        "            channel = img[:, :, i]\n",
        "            np.savetxt(f'{color}_{output}', channel, fmt='%d')\n",
        "\n",
        "    print(\"Image saved as text file(s).\")\n"
      ],
      "metadata": {
        "id": "6WvggUo2U3Pa"
      },
      "execution_count": 32,
      "outputs": []
    },
    {
      "cell_type": "markdown",
      "source": [
        "(b) Load the saved file into jupyter notebook?"
      ],
      "metadata": {
        "id": "QjMTLSgNVdbe"
      }
    },
    {
      "cell_type": "code",
      "source": [
        "gray = np.loadtxt('image_array.txt', dtype=np.uint8)\n",
        "print(\"Grayscale array loaded:\\n\", gray)"
      ],
      "metadata": {
        "colab": {
          "base_uri": "https://localhost:8080/",
          "height": 315
        },
        "id": "Xz_06ShXVchX",
        "outputId": "b637d9b1-e123-4223-b238-8785c6c4e995"
      },
      "execution_count": 33,
      "outputs": [
        {
          "output_type": "error",
          "ename": "FileNotFoundError",
          "evalue": "image_array.txt not found.",
          "traceback": [
            "\u001b[0;31m---------------------------------------------------------------------------\u001b[0m",
            "\u001b[0;31mFileNotFoundError\u001b[0m                         Traceback (most recent call last)",
            "\u001b[0;32m/tmp/ipython-input-1751669144.py\u001b[0m in \u001b[0;36m<cell line: 0>\u001b[0;34m()\u001b[0m\n\u001b[0;32m----> 1\u001b[0;31m \u001b[0mgray\u001b[0m \u001b[0;34m=\u001b[0m \u001b[0mnp\u001b[0m\u001b[0;34m.\u001b[0m\u001b[0mloadtxt\u001b[0m\u001b[0;34m(\u001b[0m\u001b[0;34m'image_array.txt'\u001b[0m\u001b[0;34m,\u001b[0m \u001b[0mdtype\u001b[0m\u001b[0;34m=\u001b[0m\u001b[0mnp\u001b[0m\u001b[0;34m.\u001b[0m\u001b[0muint8\u001b[0m\u001b[0;34m)\u001b[0m\u001b[0;34m\u001b[0m\u001b[0;34m\u001b[0m\u001b[0m\n\u001b[0m\u001b[1;32m      2\u001b[0m \u001b[0mprint\u001b[0m\u001b[0;34m(\u001b[0m\u001b[0;34m\"Grayscale array loaded:\\n\"\u001b[0m\u001b[0;34m,\u001b[0m \u001b[0mgray\u001b[0m\u001b[0;34m)\u001b[0m\u001b[0;34m\u001b[0m\u001b[0;34m\u001b[0m\u001b[0m\n",
            "\u001b[0;32m/usr/local/lib/python3.11/dist-packages/numpy/lib/_npyio_impl.py\u001b[0m in \u001b[0;36mloadtxt\u001b[0;34m(fname, dtype, comments, delimiter, converters, skiprows, usecols, unpack, ndmin, encoding, max_rows, quotechar, like)\u001b[0m\n\u001b[1;32m   1379\u001b[0m         \u001b[0mdelimiter\u001b[0m \u001b[0;34m=\u001b[0m \u001b[0mdelimiter\u001b[0m\u001b[0;34m.\u001b[0m\u001b[0mdecode\u001b[0m\u001b[0;34m(\u001b[0m\u001b[0;34m'latin1'\u001b[0m\u001b[0;34m)\u001b[0m\u001b[0;34m\u001b[0m\u001b[0;34m\u001b[0m\u001b[0m\n\u001b[1;32m   1380\u001b[0m \u001b[0;34m\u001b[0m\u001b[0m\n\u001b[0;32m-> 1381\u001b[0;31m     arr = _read(fname, dtype=dtype, comment=comment, delimiter=delimiter,\n\u001b[0m\u001b[1;32m   1382\u001b[0m                 \u001b[0mconverters\u001b[0m\u001b[0;34m=\u001b[0m\u001b[0mconverters\u001b[0m\u001b[0;34m,\u001b[0m \u001b[0mskiplines\u001b[0m\u001b[0;34m=\u001b[0m\u001b[0mskiprows\u001b[0m\u001b[0;34m,\u001b[0m \u001b[0musecols\u001b[0m\u001b[0;34m=\u001b[0m\u001b[0musecols\u001b[0m\u001b[0;34m,\u001b[0m\u001b[0;34m\u001b[0m\u001b[0;34m\u001b[0m\u001b[0m\n\u001b[1;32m   1383\u001b[0m                 \u001b[0munpack\u001b[0m\u001b[0;34m=\u001b[0m\u001b[0munpack\u001b[0m\u001b[0;34m,\u001b[0m \u001b[0mndmin\u001b[0m\u001b[0;34m=\u001b[0m\u001b[0mndmin\u001b[0m\u001b[0;34m,\u001b[0m \u001b[0mencoding\u001b[0m\u001b[0;34m=\u001b[0m\u001b[0mencoding\u001b[0m\u001b[0;34m,\u001b[0m\u001b[0;34m\u001b[0m\u001b[0;34m\u001b[0m\u001b[0m\n",
            "\u001b[0;32m/usr/local/lib/python3.11/dist-packages/numpy/lib/_npyio_impl.py\u001b[0m in \u001b[0;36m_read\u001b[0;34m(fname, delimiter, comment, quote, imaginary_unit, usecols, skiplines, max_rows, converters, ndmin, unpack, dtype, encoding)\u001b[0m\n\u001b[1;32m    995\u001b[0m             \u001b[0mfname\u001b[0m \u001b[0;34m=\u001b[0m \u001b[0mos\u001b[0m\u001b[0;34m.\u001b[0m\u001b[0mfspath\u001b[0m\u001b[0;34m(\u001b[0m\u001b[0mfname\u001b[0m\u001b[0;34m)\u001b[0m\u001b[0;34m\u001b[0m\u001b[0;34m\u001b[0m\u001b[0m\n\u001b[1;32m    996\u001b[0m         \u001b[0;32mif\u001b[0m \u001b[0misinstance\u001b[0m\u001b[0;34m(\u001b[0m\u001b[0mfname\u001b[0m\u001b[0;34m,\u001b[0m \u001b[0mstr\u001b[0m\u001b[0;34m)\u001b[0m\u001b[0;34m:\u001b[0m\u001b[0;34m\u001b[0m\u001b[0;34m\u001b[0m\u001b[0m\n\u001b[0;32m--> 997\u001b[0;31m             \u001b[0mfh\u001b[0m \u001b[0;34m=\u001b[0m \u001b[0mnp\u001b[0m\u001b[0;34m.\u001b[0m\u001b[0mlib\u001b[0m\u001b[0;34m.\u001b[0m\u001b[0m_datasource\u001b[0m\u001b[0;34m.\u001b[0m\u001b[0mopen\u001b[0m\u001b[0;34m(\u001b[0m\u001b[0mfname\u001b[0m\u001b[0;34m,\u001b[0m \u001b[0;34m'rt'\u001b[0m\u001b[0;34m,\u001b[0m \u001b[0mencoding\u001b[0m\u001b[0;34m=\u001b[0m\u001b[0mencoding\u001b[0m\u001b[0;34m)\u001b[0m\u001b[0;34m\u001b[0m\u001b[0;34m\u001b[0m\u001b[0m\n\u001b[0m\u001b[1;32m    998\u001b[0m             \u001b[0;32mif\u001b[0m \u001b[0mencoding\u001b[0m \u001b[0;32mis\u001b[0m \u001b[0;32mNone\u001b[0m\u001b[0;34m:\u001b[0m\u001b[0;34m\u001b[0m\u001b[0;34m\u001b[0m\u001b[0m\n\u001b[1;32m    999\u001b[0m                 \u001b[0mencoding\u001b[0m \u001b[0;34m=\u001b[0m \u001b[0mgetattr\u001b[0m\u001b[0;34m(\u001b[0m\u001b[0mfh\u001b[0m\u001b[0;34m,\u001b[0m \u001b[0;34m'encoding'\u001b[0m\u001b[0;34m,\u001b[0m \u001b[0;34m'latin1'\u001b[0m\u001b[0;34m)\u001b[0m\u001b[0;34m\u001b[0m\u001b[0;34m\u001b[0m\u001b[0m\n",
            "\u001b[0;32m/usr/local/lib/python3.11/dist-packages/numpy/lib/_datasource.py\u001b[0m in \u001b[0;36mopen\u001b[0;34m(path, mode, destpath, encoding, newline)\u001b[0m\n\u001b[1;32m    190\u001b[0m \u001b[0;34m\u001b[0m\u001b[0m\n\u001b[1;32m    191\u001b[0m     \u001b[0mds\u001b[0m \u001b[0;34m=\u001b[0m \u001b[0mDataSource\u001b[0m\u001b[0;34m(\u001b[0m\u001b[0mdestpath\u001b[0m\u001b[0;34m)\u001b[0m\u001b[0;34m\u001b[0m\u001b[0;34m\u001b[0m\u001b[0m\n\u001b[0;32m--> 192\u001b[0;31m     \u001b[0;32mreturn\u001b[0m \u001b[0mds\u001b[0m\u001b[0;34m.\u001b[0m\u001b[0mopen\u001b[0m\u001b[0;34m(\u001b[0m\u001b[0mpath\u001b[0m\u001b[0;34m,\u001b[0m \u001b[0mmode\u001b[0m\u001b[0;34m,\u001b[0m \u001b[0mencoding\u001b[0m\u001b[0;34m=\u001b[0m\u001b[0mencoding\u001b[0m\u001b[0;34m,\u001b[0m \u001b[0mnewline\u001b[0m\u001b[0;34m=\u001b[0m\u001b[0mnewline\u001b[0m\u001b[0;34m)\u001b[0m\u001b[0;34m\u001b[0m\u001b[0;34m\u001b[0m\u001b[0m\n\u001b[0m\u001b[1;32m    193\u001b[0m \u001b[0;34m\u001b[0m\u001b[0m\n\u001b[1;32m    194\u001b[0m \u001b[0;34m\u001b[0m\u001b[0m\n",
            "\u001b[0;32m/usr/local/lib/python3.11/dist-packages/numpy/lib/_datasource.py\u001b[0m in \u001b[0;36mopen\u001b[0;34m(self, path, mode, encoding, newline)\u001b[0m\n\u001b[1;32m    530\u001b[0m                                       encoding=encoding, newline=newline)\n\u001b[1;32m    531\u001b[0m         \u001b[0;32melse\u001b[0m\u001b[0;34m:\u001b[0m\u001b[0;34m\u001b[0m\u001b[0;34m\u001b[0m\u001b[0m\n\u001b[0;32m--> 532\u001b[0;31m             \u001b[0;32mraise\u001b[0m \u001b[0mFileNotFoundError\u001b[0m\u001b[0;34m(\u001b[0m\u001b[0;34mf\"{path} not found.\"\u001b[0m\u001b[0;34m)\u001b[0m\u001b[0;34m\u001b[0m\u001b[0;34m\u001b[0m\u001b[0m\n\u001b[0m\u001b[1;32m    533\u001b[0m \u001b[0;34m\u001b[0m\u001b[0m\n\u001b[1;32m    534\u001b[0m \u001b[0;34m\u001b[0m\u001b[0m\n",
            "\u001b[0;31mFileNotFoundError\u001b[0m: image_array.txt not found."
          ]
        }
      ]
    },
    {
      "cell_type": "code",
      "source": [
        "b = np.loadtxt('B_image_array.txt', dtype=np.uint8)\n",
        "g = np.loadtxt('G_image_array.txt', dtype=np.uint8)\n",
        "r = np.loadtxt('R_image_array.txt', dtype=np.uint8)\n",
        "\n",
        "# Reconstruct image\n",
        "reconstructed_img = cv2.merge([b, g, r])\n",
        "print(\"RGB array reconstructed.\")\n"
      ],
      "metadata": {
        "id": "VU4ThpLIWBGt"
      },
      "execution_count": null,
      "outputs": []
    }
  ]
}